{
 "cells": [
  {
   "cell_type": "code",
   "execution_count": 1,
   "metadata": {},
   "outputs": [],
   "source": [
    "import pandas  as pd"
   ]
  },
  {
   "cell_type": "code",
   "execution_count": 9,
   "metadata": {},
   "outputs": [],
   "source": [
    "df = pd.read_csv(\"./Countries-GDP-Data.csv\")"
   ]
  },
  {
   "cell_type": "code",
   "execution_count": 17,
   "metadata": {},
   "outputs": [
    {
     "data": {
      "text/plain": [
       "1313973713"
      ]
     },
     "execution_count": 17,
     "metadata": {},
     "output_type": "execute_result"
    }
   ],
   "source": [
    "population_of_countries = df.groupby(df[\"Country\"])[\"Population\"].sum()\n",
    "population_of_countries.max()"
   ]
  },
  {
   "cell_type": "code",
   "execution_count": null,
   "metadata": {},
   "outputs": [],
   "source": [
    "df.isnull().sum()"
   ]
  },
  {
   "cell_type": "code",
   "execution_count": 27,
   "metadata": {},
   "outputs": [
    {
     "name": "stdout",
     "output_type": "stream",
     "text": [
      "2\n"
     ]
    }
   ],
   "source": [
    "details = [\"7868190130M7522\",\"5303914400F9211\",\"9273338290F4010\"]\n",
    "\n",
    "\n",
    "# for val in details:\n",
    "#     print(type(val[11:13]))\n",
    "\n",
    "def find_older_than_60_yo(arr):\n",
    "    ans = 0\n",
    "    for val in arr:\n",
    "        if int(val[11:13]) > 60:\n",
    "            ans+=1\n",
    "    return ans\n",
    "\n",
    "print(find_older_than_60_yo(details))\n",
    "    "
   ]
  },
  {
   "cell_type": "code",
   "execution_count": null,
   "metadata": {},
   "outputs": [],
   "source": [
    "class Solution:\n",
    "    def countSeniors(self, details: List[str]) -> int:\n",
    "        ans = 0\n",
    "        for val in details:\n",
    "            if int(val[11:13]) > 60:\n",
    "               ans+=1\n",
    "        return ans"
   ]
  }
 ],
 "metadata": {
  "kernelspec": {
   "display_name": "Python 3",
   "language": "python",
   "name": "python3"
  },
  "language_info": {
   "codemirror_mode": {
    "name": "ipython",
    "version": 3
   },
   "file_extension": ".py",
   "mimetype": "text/x-python",
   "name": "python",
   "nbconvert_exporter": "python",
   "pygments_lexer": "ipython3",
   "version": "3.12.4"
  }
 },
 "nbformat": 4,
 "nbformat_minor": 2
}
